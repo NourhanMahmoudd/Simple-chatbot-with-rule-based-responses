{
  "nbformat": 4,
  "nbformat_minor": 0,
  "metadata": {
    "colab": {
      "provenance": []
    },
    "kernelspec": {
      "name": "python3",
      "display_name": "Python 3"
    },
    "language_info": {
      "name": "python"
    }
  },
  "cells": [
    {
      "cell_type": "markdown",
      "source": [
        "    CHATBOT WITH RULE-BASED RESPONSES 🤖"
      ],
      "metadata": {
        "id": "_oPeL8jNO3pY"
      }
    },
    {
      "cell_type": "markdown",
      "source": [
        "# ***Import the necessary libraries***"
      ],
      "metadata": {
        "id": "oV4xNCJ2MkuW"
      }
    },
    {
      "cell_type": "code",
      "source": [
        "import re\n",
        "import datetime\n",
        "import random"
      ],
      "metadata": {
        "id": "V4nHsKjUMsjv"
      },
      "execution_count": 11,
      "outputs": []
    },
    {
      "cell_type": "markdown",
      "source": [
        "# ***The chatbot's responses***"
      ],
      "metadata": {
        "id": "cRzTUQojMvTk"
      }
    },
    {
      "cell_type": "code",
      "source": [
        "responses = {\n",
        "    \"hello\": \"Hello! How can I help you today?\",\n",
        "    \"hi\": \"Hi! How can I help you today?\",\n",
        "    \"hey\": \"Hey! How can I help you today?\",\n",
        "    \"what is your name\": \"My name is Chatbot.\",\n",
        "    \"how are you\": \"I am doing well, thank you.\",\n",
        "    \"how are you doing\": \"I am doing well, thank you.\",\n",
        "    \"thank\": \"You're welcome!\",\n",
        "    \"goodbye\": \"Goodbye! Have a nice day.\",\n",
        "    \"where are you from\": \"I exist in the digital world and do not have a physical location.\",\n",
        "    \"what is your favorite color\": \"As an AI, I don't have preferences, but I can help you with your queries!\",\n",
        "    \"can you tell me a joke\": \"Sure! Why don't scientists trust atoms? Because they make up everything!\",\n",
        "    \"what is 2 + 2\": \"2 + 2 equals 4.\",\n",
        "    \"how old are you\": \"I don't have an age, as I am a computer program.\",\n",
        "    \"what can you do\": \"I can help answer questions, provide information, and assist with various tasks.\",\n",
        "    \"tell me a fun fact\": \"Did you know that honey never spoils? Archaeologists have found pots of honey in ancient Egyptian tombs that are over 3,000 years old and still edible!\",\n",
        "    \"how can i improve my memory\": \"Improving memory can be achieved through regular mental exercises, staying organized, getting enough sleep, and maintaining a healthy diet.\",\n",
        "    \"what is your favorite movie\": \"As an AI, I don't watch movies, but I can recommend some popular ones if you'd like!\",\n",
        "    \"what is artificial intelligence\": \"Artificial intelligence (AI) refers to the simulation of human intelligence in machines that are programmed to think and learn like humans.\",\n",
        "    \"what is the tallest mountain in the world\": \"The tallest mountain in the world is Mount Everest, standing at 8,848 meters (29,029 feet) above sea level.\",\n",
        "    \"who invented the telephone\": \"The telephone was invented by Alexander Graham Bell in 1876.\",\n",
        "    \"who wrote 'Pride and Prejudice'\": \"'Pride and Prejudice' was written by Jane Austen.\",\n",
        "    \"what is photosynthesis\": \"Photosynthesis is the process by which green plants and some other organisms use sunlight to synthesize foods from carbon dioxide and water. It generally involves the green pigment chlorophyll and generates oxygen as a byproduct.\",\n",
        "    \"who is the founder of Microsoft\": \"Microsoft was founded by Bill Gates and Paul Allen.\",\n",
        "    \"what is the boiling point of water\": \"The boiling point of water is 100 degrees Celsius (212 degrees Fahrenheit) at standard atmospheric pressure.\",\n",
        "    \"what is the weather today\": \"I do not have access to real-time information, so I cannot provide you with the weather forecast.\",\n",
        "    \"what is the time\": \"I do not have access to real-time information, so I cannot provide you with the current time.\",\n",
        "    \"what is the date today\": \"I do not have access to real-time information, so I cannot provide you with the current date.\",\n",
        "    \"what is the capital of egypt\": \"The capital of Egypt is Cairo.\",\n",
        "    \"what is the capital of japan\": \"The capital of Japan is Tokyo.\",\n",
        "    \"what is the capital of Korea\": \"The capital of Korea is Seoul.\",\n",
        "    \"what is the meaning of life\": \"The meaning of life is a philosophical question that has been debated for centuries. There is no one definitive answer, but some common themes include finding purpose, happiness, and fulfillment.\",\n",
        "    \"what is the population of the earth\": \"The current population of the Earth is estimated to be around 8 billion people.\",\n",
        "    \"what is the best way to learn a new language\": \"The best way to learn a new language is to immerse yourself in it. This means listening to music, watching movies, reading books, and speaking to native speakers as much as possible.\",\n",
        "    \"what is the secret to happiness\": \"The secret to happiness is different for everyone, but some common ingredients include gratitude, kindness, and spending time with loved ones.\",\n",
        "    \"what is the speed of light\": \"The speed of light is approximately 299,792,458 meters per second.\"\n",
        "}"
      ],
      "metadata": {
        "id": "dzhI3doOMx-w"
      },
      "execution_count": 2,
      "outputs": []
    },
    {
      "cell_type": "markdown",
      "source": [
        "# ***Main function and run***"
      ],
      "metadata": {
        "id": "QykCsezUM3El"
      }
    },
    {
      "cell_type": "code",
      "execution_count": 5,
      "metadata": {
        "colab": {
          "base_uri": "https://localhost:8080/"
        },
        "id": "XOVjUHnRMeXC",
        "outputId": "ce2529ef-f83b-4106-85f0-fd509a5dbd69"
      },
      "outputs": [
        {
          "output_type": "stream",
          "name": "stdout",
          "text": [
            "User: Hi\n",
            "Chatbot: Hi! How can I help you today?\n",
            "User: what is your name \n",
            "Chatbot: My name is Chatbot.\n",
            "User: goodbye\n",
            "Chatbot: Goodbye! Have a nice day.\n"
          ]
        }
      ],
      "source": [
        "def chatbot():\n",
        "    while True:\n",
        "        # Get the user's input\n",
        "        user_input = input(\"User: \")\n",
        "        user_input = user_input.lower().strip(\".,!?\").strip()\n",
        "\n",
        "        # Check if the user's input is in the list of responses\n",
        "        if user_input in responses:\n",
        "            response = responses[user_input]\n",
        "        else:\n",
        "            response = \"I'm sorry, I don't understand. Could you please rephrase that?\"\n",
        "\n",
        "        print(\"Chatbot:\", response)\n",
        "\n",
        "        if user_input == \"goodbye\":\n",
        "            break\n",
        "chatbot()"
      ]
    },
    {
      "cell_type": "markdown",
      "source": [
        "---\n",
        "# ***`CLASSES FOR DIFFERENT LANGUAGES 🤖`***\n",
        "\n",
        "---"
      ],
      "metadata": {
        "id": "p9tXvKDzvwB-"
      }
    },
    {
      "cell_type": "markdown",
      "source": [
        "# ***English Chatbot***"
      ],
      "metadata": {
        "id": "DsnqB-TAcbJj"
      }
    },
    {
      "cell_type": "code",
      "source": [
        "class ChatbotEnglish:\n",
        "    def __init__(self):\n",
        "        pass\n",
        "\n",
        "    def welcome_message(self):\n",
        "        return \"Welcome! How can I assist you?\"\n",
        "\n",
        "    def conversation(self, user_input):\n",
        "        predefined_rules = {\n",
        "\n",
        "            r\"(hi|hello|hey|howdy)(.*)\": [\"Hello! How can I assist you?\", \"Hi there! What can I help you with?\"],\n",
        "            r\"(how are you|how is it going|what's up)(.*)\": [\"I'm doing well, thank you!\", \"Everything is going smoothly, thanks for asking!\"],\n",
        "            r\"(bye|goodbye|see you later|adios)(.*)\": [\"Goodbye! Have a great day!\", \"See you later! Take care!\"],\n",
        "            r\"(what time is it|current time)(.*)\": [self.get_current_time],\n",
        "            r\"(what day is it today|today's date)(.*)\": [self.get_current_date],\n",
        "            r\"(what is your name|who are you)(.*)\": [\"I'm just a chatbot.\", \"I don't have a name, I'm here to help you!\"],\n",
        "            r\"(my name is|I am) ([a-zA-Z]+)(.*)\": [self.respond_to_name],\n",
        "            r\"(who is the president of the united states|current us president)(.*)\": [\"The current president of the United States is Joe Biden.\"],\n",
        "            r\"(what is the capital of) (.*)\": [self.get_capital],\n",
        "            r\"(what is the meaning of life)(.*)\": [\"The meaning of life is a philosophical question that has been debated for centuries. There is no one definitive answer, but some common themes include finding purpose, happiness, and fulfillment.\"],\n",
        "            r\"(tell me a joke|make me laugh)(.*)\": [\"Sure! Why don't scientists trust atoms? Because they make up everything!\"],\n",
        "            r\"(what is (2 \\+ 2|2 plus 2))(.*)\": [\"2 + 2 equals 4.\"],\n",
        "            r\"(how old are you|what is your age)(.*)\": [\"I don't have an age, as I am a computer program.\"],\n",
        "            r\"(what can you do)(.*)\": [\"I can help answer questions, provide information, and assist with various tasks.\"],\n",
        "            r\"(tell me a fun fact|give me a fact)(.*)\": [\"Did you know that honey never spoils? Archaeologists have found pots of honey in ancient Egyptian tombs that are over 3,000 years old and still edible!\"],\n",
        "            r\"(how can I improve my memory)(.*)\": [\"Improving memory can be achieved through regular mental exercises, staying organized, getting enough sleep, and maintaining a healthy diet.\"],\n",
        "            r\"(what is artificial intelligence)(.*)\": [\"Artificial intelligence (AI) refers to the simulation of human intelligence in machines that are programmed to think and learn like humans.\"],\n",
        "            r\"(what is the tallest mountain in the world)(.*)\": [\"The tallest mountain in the world is Mount Everest, standing at 8,848 meters (29,029 feet) above sea level.\"],\n",
        "            r\"(who invented the telephone)(.*)\": [\"The telephone was invented by Alexander Graham Bell in 1876.\"],\n",
        "            r\"(what is the largest ocean on earth)(.*)\": [\"The largest ocean on Earth is the Pacific Ocean.\"],\n",
        "            r\"(who wrote 'Pride and Prejudice')(.*)\": [\"'Pride and Prejudice' was written by Jane Austen.\"],\n",
        "            r\"(what is photosynthesis)(.*)\": [\"Photosynthesis is the process by which green plants and some other organisms use sunlight to synthesize foods from carbon dioxide and water. It generally involves the green pigment chlorophyll and generates oxygen as a byproduct.\"],\n",
        "            r\"(who is the founder of Microsoft)(.*)\": [\"Microsoft was founded by Bill Gates and Paul Allen.\"],\n",
        "            r\"(what is the boiling point of water)(.*)\": [\"The boiling point of water is 100 degrees Celsius (212 degrees Fahrenheit) at standard atmospheric pressure.\"]\n",
        "        }\n",
        "\n",
        "        for pattern, responses in predefined_rules.items():\n",
        "            match = re.match(pattern, user_input.lower())\n",
        "            if match:\n",
        "                for response in responses:\n",
        "                    if callable(response):\n",
        "                        return response(*match.groups())\n",
        "                    elif self.similarity(user_input, response):\n",
        "                        return response\n",
        "                return random.choice(responses)\n",
        "\n",
        "        return \"I'm sorry, I didn't understand that.\"\n",
        "\n",
        "    def similarity(self, input_str, match_str):\n",
        "        input_words = set(re.findall(r'\\w+', input_str.lower()))\n",
        "        match_words = set(re.findall(r'\\w+', match_str.lower()))\n",
        "        common_words = input_words.intersection(match_words)\n",
        "        similarity_ratio = len(common_words) / max(len(input_words), len(match_words))\n",
        "        return similarity_ratio >= 0.75\n",
        "\n",
        "    def get_current_time(self, *args):\n",
        "        now = datetime.datetime.now()\n",
        "        return \"The current time is \" + now.strftime(\"%H:%M\") + \".\"\n",
        "\n",
        "    def get_current_date(self, *args):\n",
        "        now = datetime.datetime.now()\n",
        "        return \"Today's date is \" + now.strftime(\"%Y-%m-%d\") + \".\"\n",
        "\n",
        "    def respond_to_name(self, _, name, __):\n",
        "        return \"Hey {}! How can I assist you?\".format(name)\n",
        "\n",
        "    def get_capital(self, *args):\n",
        "        capitals = {\n",
        "            \"egypt\": \"Cairo\",\n",
        "            \"japan\": \"Tokyo\",\n",
        "            \"korea\": \"Seoul\",\n",
        "            \"france\": \"Paris\"\n",
        "        }\n",
        "        country = args[1].strip().lower()\n",
        "        if country in capitals:\n",
        "            return f\"The capital of {country.capitalize()} is {capitals[country]}.\"\n",
        "        else:\n",
        "            return \"I'm sorry, I don't know the capital of that country.\"\n",
        "\n",
        "# Example usage\n",
        "chatbot = ChatbotEnglish()\n",
        "print(chatbot.welcome_message())\n",
        "print(chatbot.conversation(\"hi\"))\n",
        "print(chatbot.conversation(\"what is the capital of japan\"))\n",
        "print(chatbot.conversation(\"what is your name\"))\n",
        "print(chatbot.conversation(\"what can you do\"))\n",
        "print(chatbot.conversation(\"my name is John\"))"
      ],
      "metadata": {
        "colab": {
          "base_uri": "https://localhost:8080/"
        },
        "id": "kpR9DBTcaoz1",
        "outputId": "969cb0a9-9fe7-44bf-b76c-e6528339e7b8"
      },
      "execution_count": 12,
      "outputs": [
        {
          "output_type": "stream",
          "name": "stdout",
          "text": [
            "Welcome! How can I assist you?\n",
            "Hello! How can I assist you?\n",
            "The capital of Japan is Tokyo.\n",
            "I don't have a name, I'm here to help you!\n",
            "I can help answer questions, provide information, and assist with various tasks.\n",
            "Hey john! How can I assist you?\n"
          ]
        }
      ]
    },
    {
      "cell_type": "markdown",
      "source": [
        "# ***German Chatbot***"
      ],
      "metadata": {
        "id": "j7AgOVNidXwr"
      }
    },
    {
      "cell_type": "code",
      "source": [
        "class ChatbotGerman:\n",
        "    def __init__(self):\n",
        "        pass\n",
        "\n",
        "    def welcome_message(self):\n",
        "        return \"Willkommen! Wie kann ich Ihnen helfen?\"\n",
        "\n",
        "    def conversation(self, user_input):\n",
        "        predefined_rules = {\n",
        "\n",
        "            r\"(hallo|hi|hey|guten tag)(.*)\": [\"Hallo! Wie kann ich Ihnen helfen?\", \"Hi! Was kann ich für Sie tun?\"],\n",
        "\n",
        "            r\"(wie geht es dir|wie geht's|was geht ab)(.*)\": [\"Mir geht es gut, danke!\", \"Alles läuft gut, danke der Nachfrage!\"],\n",
        "\n",
        "            r\"(tschüss|auf wiedersehen|bis später|ciao)(.*)\": [\"Auf Wiedersehen! Einen schönen Tag noch!\", \"Bis später! Mach's gut!\"],\n",
        "\n",
        "            r\"(wie spät ist es|aktuelle zeit)(.*)\": [self.get_current_time],\n",
        "\n",
        "            r\"(welcher tag ist heute|heutiges datum)(.*)\": [self.get_current_date],\n",
        "\n",
        "            r\"(wie heißt du|wer bist du)(.*)\": [\"Ich bin nur ein Chatbot.\", \"Ich habe keinen Namen, ich bin hier, um Ihnen zu helfen!\"],\n",
        "\n",
        "            r\"(mein name ist|ich bin) ([a-zA-ZäöüÄÖÜß]+)(.*)\": [self.respond_to_name],\n",
        "\n",
        "            r\"(wer ist der präsident der usa|aktueller us-präsident)(.*)\": [\"Der aktuelle Präsident der Vereinigten Staaten ist Joe Biden.\"],\n",
        "            r\"(was ist die hauptstadt von) (.*)\": [self.get_capital],\n",
        "            r\"(was ist der sinn des lebens)(.*)\": [\"Der Sinn des Lebens ist eine philosophische Frage, die seit Jahrhunderten diskutiert wird. Es gibt keine endgültige Antwort, aber einige gemeinsame Themen sind das Finden von Zweck, Glück und Erfüllung.\"],\n",
        "            r\"(erzähl mir einen witz|mach mich lachen)(.*)\": [\"Klar! Warum können Geister so schlecht lügen? Weil man durch sie hindurchsehen kann!\"],\n",
        "            r\"(was ist (2 + 2|2 plus 2))(.*)\": [\"2 + 2 ist gleich 4.\"],\n",
        "            r\"(wie alt bist du|was ist dein alter)(.*)\": [\"Ich habe kein Alter, da ich ein Computerprogramm bin.\"],\n",
        "            r\"(was kannst du)(.*)\": [\"Ich kann Fragen beantworten, Informationen bereitstellen und bei verschiedenen Aufgaben helfen.\"],\n",
        "            r\"(erzähl mir eine interessante tatsache|gib mir eine tatsache)(.*)\": [\"Wussten Sie, dass Honig niemals verdirbt? Archäologen haben Töpfe mit Honig in alten ägyptischen Gräbern gefunden, die über 3.000 Jahre alt und immer noch essbar sind!\"],\n",
        "            r\"(wie kann ich mein gedächtnis verbessern)(.*)\": [\"Das Gedächtnis kann durch regelmäßige mentale Übungen, Organisation, ausreichend Schlaf und eine gesunde Ernährung verbessert werden.\"],\n",
        "            r\"(was ist künstliche intelligenz)(.*)\": [\"Künstliche Intelligenz (KI) bezieht sich auf die Simulation menschlicher Intelligenz in Maschinen, die darauf programmiert sind, wie Menschen zu denken und zu lernen.\"],\n",
        "            r\"(was ist der höchste berg der welt)(.*)\": [\"Der höchste Berg der Welt ist der Mount Everest, der 8.848 Meter (29.029 Fuß) über dem Meeresspiegel liegt.\"],\n",
        "            r\"(wer hat das telefon erfunden)(.*)\": [\"Das Telefon wurde 1876 von Alexander Graham Bell erfunden.\"],\n",
        "            r\"(was ist der größte ozean der erde)(.*)\": [\"Der größte Ozean der Erde ist der Pazifische Ozean.\"],\n",
        "            r\"(wer hat 'stolz und vorurteil' geschrieben)(.*)\": [\"'Stolz und Vorurteil' wurde von Jane Austen geschrieben.\"],\n",
        "            r\"(was ist photosynthese)(.*)\": [\"Photosynthese ist der Prozess, bei dem grüne Pflanzen und einige andere Organismen Sonnenlicht nutzen, um aus Kohlendioxid und Wasser Nahrung zu synthetisieren. Dabei entsteht als Nebenprodukt Sauerstoff.\"],\n",
        "            r\"(wer ist der gründer von microsoft)(.*)\": [\"Microsoft wurde von Bill Gates und Paul Allen gegründet.\"],\n",
        "            r\"(was ist der siedepunkt von wasser)(.*)\": [\"Der Siedepunkt von Wasser liegt bei 100 Grad Celsius (212 Grad Fahrenheit) unter Normaldruck.\"]\n",
        "        }\n",
        "\n",
        "        for pattern, responses in predefined_rules.items():\n",
        "            match = re.match(pattern, user_input.lower())\n",
        "            if match:\n",
        "                for response in responses:\n",
        "                    if callable(response):\n",
        "                        return response(*match.groups())\n",
        "                    elif self.similarity(user_input, response):\n",
        "                        return response\n",
        "                return random.choice(responses)\n",
        "\n",
        "        return \"Entschuldigung, das habe ich nicht verstanden.\"\n",
        "\n",
        "    def similarity(self, input_str, match_str):\n",
        "        input_words = set(re.findall(r'\\w+', input_str.lower()))\n",
        "        match_words = set(re.findall(r'\\w+', match_str.lower()))\n",
        "        common_words = input_words.intersection(match_words)\n",
        "        similarity_ratio = len(common_words) / max(len(input_words), len(match_words))\n",
        "        return similarity_ratio >= 0.75\n",
        "\n",
        "    def get_current_time(self, *args):\n",
        "        now = datetime.datetime.now()\n",
        "        return \"Die aktuelle Uhrzeit ist \" + now.strftime(\"%H:%M\") + \".\"\n",
        "\n",
        "    def get_current_date(self, *args):\n",
        "        now = datetime.datetime.now()\n",
        "        return \"Das heutige Datum ist \" + now.strftime(\"%Y-%m-%d\") + \".\"\n",
        "\n",
        "    def respond_to_name(self, _, name, __):\n",
        "        return \"Hallo {}! Wie kann ich Ihnen helfen?\".format(name)\n",
        "\n",
        "    def get_capital(self, *args):\n",
        "        capitals = {\n",
        "            \"ägypten\": \"Kairo\",\n",
        "            \"japan\": \"Tokio\",\n",
        "            \"korea\": \"Seoul\",\n",
        "            \"frankreich\": \"Paris\"\n",
        "        }\n",
        "        country = args[1].strip().lower()\n",
        "        if country in capitals:\n",
        "            return f\"Die Hauptstadt von {country.capitalize()} ist {capitals[country]}.\"\n",
        "        else:\n",
        "            return \"Entschuldigung, ich kenne die Hauptstadt von diesem Land nicht.\"\n",
        "\n",
        "# Example usage\n",
        "chatbot = ChatbotGerman()\n",
        "print(chatbot.welcome_message())\n",
        "print(chatbot.conversation(\"hallo\"))\n",
        "print(chatbot.conversation(\"was ist die hauptstadt von Japan\"))\n",
        "print(chatbot.conversation(\"mein name ist Hans\"))\n"
      ],
      "metadata": {
        "colab": {
          "base_uri": "https://localhost:8080/"
        },
        "id": "epzimpmUckt9",
        "outputId": "068d8524-2fa7-4343-8329-a05835075494"
      },
      "execution_count": 13,
      "outputs": [
        {
          "output_type": "stream",
          "name": "stdout",
          "text": [
            "Willkommen! Wie kann ich Ihnen helfen?\n",
            "Hi! Was kann ich für Sie tun?\n",
            "Die Hauptstadt von Japan ist Tokio.\n",
            "Hallo hans! Wie kann ich Ihnen helfen?\n"
          ]
        }
      ]
    },
    {
      "cell_type": "markdown",
      "source": [
        "# ***Japanese Chatbot***"
      ],
      "metadata": {
        "id": "Qy3HEwXdeiLM"
      }
    },
    {
      "cell_type": "code",
      "source": [
        "class ChatbotJapanese:\n",
        "    def __init__(self):\n",
        "        pass\n",
        "\n",
        "    def welcome_message(self):\n",
        "        return \"ようこそ！どうやってお手伝いしましょうか？\"\n",
        "\n",
        "    def conversation(self, user_input):\n",
        "        predefined_rules = {\n",
        "\n",
        "            r\"(こんにちは|こんばんは|おはよう|やあ)(.*)\": [\"こんにちは！どうやってお手伝いしましょうか？\", \"やあ！何をお手伝いしましょうか？\"],\n",
        "\n",
        "            r\"(お元気ですか|調子はどうですか)(.*)\": [\"元気です、ありがとうございます！\", \"順調です、ありがとうございます！\"],\n",
        "\n",
        "            r\"(さようなら|またね|じゃあね)(.*)\": [\"さようなら！良い一日を！\", \"またね！お元気で！\"],\n",
        "\n",
        "            r\"(今何時ですか|現在の時刻)(.*)\": [self.get_current_time],\n",
        "\n",
        "            r\"(今日は何日ですか|今日の日付)(.*)\": [self.get_current_date],\n",
        "\n",
        "            r\"(お名前は何ですか|あなたは誰ですか)(.*)\": [\"私はただのチャットボットです。\", \"名前はありません、お手伝いするためにここにいます！\"],\n",
        "\n",
        "            r\"(私の名前は|私は) ([ぁ-んァ-ン一-龥a-zA-Z]+)(.*)\": [self.respond_to_name],\n",
        "\n",
        "            r\"(アメリカの大統領は誰ですか|現在のアメリカ大統領)(.*)\": [\"現在のアメリカ大統領はジョー・バイデンです。\"],\n",
        "            r\"(の首都はどこですか) (.*)\": [self.get_capital],\n",
        "            r\"(人生の意味は何ですか)(.*)\": [\"人生の意味は何世紀にもわたって議論されている哲学的な質問です。決定的な答えはありませんが、一般的なテーマには目的、幸福、充実感を見つけることが含まれます。\"],\n",
        "            r\"(ジョークを言ってください|笑わせて)(.*)\": [\"もちろん！科学者が原子を信じないのはなぜですか？それはすべてを作り上げるからです！\"],\n",
        "            r\"(2 + 2 は何ですか|2 たす 2)(.*)\": [\"2 + 2 は 4 です。\"],\n",
        "            r\"(何歳ですか|年齢は)(.*)\": [\"私はコンピュータプログラムなので年齢はありません。\"],\n",
        "            r\"(何ができますか)(.*)\": [\"質問に答え、情報を提供し、さまざまなタスクを手伝うことができます。\"],\n",
        "            r\"(面白い事実を教えてください|事実を教えてください)(.*)\": [\"蜂蜜は腐りません。考古学者は古代エジプトの墓で3,000年以上経っても食べられる蜂蜜の壺を発見しました！\"],\n",
        "            r\"(記憶を改善するにはどうすればいいですか)(.*)\": [\"記憶力は定期的な精神的エクササイズ、整理整頓、十分な睡眠、そして健康的な食事によって改善されます。\"],\n",
        "            r\"(人工知能とは何ですか)(.*)\": [\"人工知能（AI）とは、人間の知能をシミュレートした機械で、考えたり学んだりするようにプログラムされています。\"],\n",
        "            r\"(世界で一番高い山は何ですか)(.*)\": [\"世界で一番高い山はエベレスト山で、海抜8,848メートル（29,029フィート）です。\"],\n",
        "            r\"(電話を発明したのは誰ですか)(.*)\": [\"電話は1876年にアレクサンダー・グラハム・ベルによって発明されました。\"],\n",
        "            r\"(地球上で一番大きな海は何ですか)(.*)\": [\"地球上で一番大きな海は太平洋です。\"],\n",
        "            r\"(「高慢と偏見」を書いたのは誰ですか)(.*)\": [\"「高慢と偏見」はジェーン・オースティンによって書かれました。\"],\n",
        "            r\"(光合成とは何ですか)(.*)\": [\"光合成は、緑色植物や他の一部の生物が、二酸化炭素と水から食物を合成するために日光を利用するプロセスです。それは一般に緑色の色素クロロフィルを含み、副産物として酸素を生成します。\"],\n",
        "            r\"(マイクロソフトの創設者は誰ですか)(.*)\": [\"マイクロソフトはビル・ゲイツとポール・アレンによって設立されました。\"],\n",
        "            r\"(水の沸点は何度ですか)(.*)\": [\"水の沸点は標準大気圧下で100度セルシウス（212度ファーレンハイト）です。\"]\n",
        "        }\n",
        "\n",
        "        for pattern, responses in predefined_rules.items():\n",
        "            match = re.match(pattern, user_input.lower())\n",
        "            if match:\n",
        "                for response in responses:\n",
        "                    if callable(response):\n",
        "                        return response(*match.groups())\n",
        "                    elif self.similarity(user_input, response):\n",
        "                        return response\n",
        "                return random.choice(responses)\n",
        "\n",
        "        return \"すみません、理解できませんでした。\"\n",
        "\n",
        "    def similarity(self, input_str, match_str):\n",
        "        input_words = set(re.findall(r'\\w+', input_str.lower()))\n",
        "        match_words = set(re.findall(r'\\w+', match_str.lower()))\n",
        "        common_words = input_words.intersection(match_words)\n",
        "        similarity_ratio = len(common_words) / max(len(input_words), len(match_words))\n",
        "        return similarity_ratio >= 0.75\n",
        "\n",
        "    def get_current_time(self, *args):\n",
        "        now = datetime.datetime.now()\n",
        "        return \"現在の時刻は \" + now.strftime(\"%H:%M\") + \" です。\"\n",
        "\n",
        "    def get_current_date(self, *args):\n",
        "        now = datetime.datetime.now()\n",
        "        return \"今日は \" + now.strftime(\"%Y-%m-%d\") + \" です。\"\n",
        "\n",
        "    def respond_to_name(self, _, name, __):\n",
        "        return \"こんにちは、{}さん！どうやってお手伝いしましょうか？\".format(name)\n",
        "\n",
        "    def get_capital(self, *args):\n",
        "        capitals = {\n",
        "            \"エジプト\": \"カイロ\",\n",
        "            \"日本\": \"東京\",\n",
        "            \"韓国\": \"ソウル\",\n",
        "            \"フランス\": \"パリ\"\n",
        "        }\n",
        "        country = args[1].strip().lower()\n",
        "        if country in capitals:\n",
        "          return f\"{country}の首都は{capitals[country]}です。\"\n",
        "        else:\n",
        "          return \"ごめんなさい、その国の首都は知りません\"\n",
        "\n",
        "# Example usage\n",
        "chatbot = ChatbotJapanese()\n",
        "print(chatbot.welcome_message())\n",
        "print(chatbot.conversation(\"こんにちは\"))\n",
        "print(chatbot.conversation(\"面白い事実を教えてください|事実を教えてください\"))\n",
        "print(chatbot.conversation(\"光合成とは何ですか\"))"
      ],
      "metadata": {
        "colab": {
          "base_uri": "https://localhost:8080/"
        },
        "id": "DlGNw2X9ckdS",
        "outputId": "8661e1ff-ab37-452f-8bc4-b5838fd8e362"
      },
      "execution_count": 14,
      "outputs": [
        {
          "output_type": "stream",
          "name": "stdout",
          "text": [
            "ようこそ！どうやってお手伝いしましょうか？\n",
            "こんにちは！どうやってお手伝いしましょうか？\n",
            "蜂蜜は腐りません。考古学者は古代エジプトの墓で3,000年以上経っても食べられる蜂蜜の壺を発見しました！\n",
            "光合成は、緑色植物や他の一部の生物が、二酸化炭素と水から食物を合成するために日光を利用するプロセスです。それは一般に緑色の色素クロロフィルを含み、副産物として酸素を生成します。\n"
          ]
        }
      ]
    },
    {
      "cell_type": "markdown",
      "source": [
        "# ***Chinese Chatbot***"
      ],
      "metadata": {
        "id": "uUsT_Xvvet7B"
      }
    },
    {
      "cell_type": "code",
      "source": [
        "class ChatbotChinese:\n",
        "    def __init__(self):\n",
        "        pass\n",
        "\n",
        "    def welcome_message(self):\n",
        "        return \"欢迎！我能帮你什么？\"\n",
        "\n",
        "    def conversation(self, user_input):\n",
        "        predefined_rules = {\n",
        "\n",
        "            r\"(你好|嗨|您好|哈喽)(.*)\": [\"你好！我能帮你什么？\", \"嗨！有什么我能帮你的吗？\"],\n",
        "\n",
        "            r\"(你好吗|你怎么样|最近怎么样)(.*)\": [\"我很好，谢谢！\", \"一切顺利，谢谢你的关心！\"],\n",
        "\n",
        "            r\"(再见|拜拜|回头见|再会)(.*)\": [\"再见！祝你有美好的一天！\", \"回头见！保重！\"],\n",
        "\n",
        "            r\"(现在几点|当前时间)(.*)\": [self.get_current_time],\n",
        "\n",
        "            r\"(今天几号|今天的日期)(.*)\": [self.get_current_date],\n",
        "\n",
        "            r\"(你叫什么名字|你是谁)(.*)\": [\"我只是一个聊天机器人。\", \"我没有名字，我在这里帮助你！\"],\n",
        "\n",
        "            r\"(我叫|我是) ([\\u4e00-\\u9fa5a-zA-Z]+)(.*)\": [self.respond_to_name],\n",
        "\n",
        "            r\"(美国总统是谁|现任美国总统)(.*)\": [\"现任美国总统是乔·拜登。\"],\n",
        "            r\"(的首都是哪里) (.*)\": [self.get_capital],\n",
        "            r\"(生命的意义是什么)(.*)\": [\"生命的意义是一个哲学问题，已经争论了几个世纪。没有一个明确的答案，但一些常见的主题包括寻找目的、幸福和充实感。\"],\n",
        "            r\"(讲个笑话|让我笑一笑)(.*)\": [\"当然！科学家为什么不相信原子？因为它们编造了一切！\"],\n",
        "            r\"(2 + 2 是多少|2 加 2)(.*)\": [\"2 + 2 等于 4。\"],\n",
        "            r\"(你几岁|你的年龄是多少)(.*)\": [\"我没有年龄，因为我是一个计算机程序。\"],\n",
        "            r\"(你能做什么)(.*)\": [\"我可以回答问题，提供信息，并帮助完成各种任务。\"],\n",
        "            r\"(告诉我一个有趣的事实|给我一个事实)(.*)\": [\"你知道吗，蜂蜜永远不会变质？考古学家在古埃及的墓葬中发现了超过3,000年的蜂蜜，仍然可以食用！\"],\n",
        "            r\"(如何提高记忆力)(.*)\": [\"定期进行心理锻炼，保持组织，充足的睡眠和健康的饮食可以提高记忆力。\"],\n",
        "            r\"(什么是人工智能)(.*)\": [\"人工智能（AI）是指在机器中模拟人类智能的过程，这些机器被编程为像人类一样思考和学习。\"],\n",
        "            r\"(世界上最高的山是什么)(.*)\": [\"世界上最高的山是珠穆朗玛峰，海拔8,848米（29,029英尺）。\"],\n",
        "            r\"(谁发明了电话)(.*)\": [\"电话是亚历山大·格拉汉姆·贝尔于1876年发明的。\"],\n",
        "            r\"(地球上最大的海洋是什么)(.*)\": [\"地球上最大的海洋是太平洋。\"],\n",
        "            r\"(谁写了《傲慢与偏见》)(.*)\": [\"《傲慢与偏见》是简·奥斯汀写的。\"],\n",
        "            r\"(什么是光合作用)(.*)\": [\"光合作用是绿色植物和一些其他生物利用阳光从二氧化碳和水中合成食物的过程。它通常涉及绿色颜料叶绿素，并产生氧气作为副产品。\"],\n",
        "            r\"(微软的创始人是谁)(.*)\": [\"微软是比尔·盖茨和保罗·艾伦创立的。\"],\n",
        "            r\"(水的沸点是多少)(.*)\": [\"水的沸点在标准大气压下是100摄氏度（212华氏度）。\"]\n",
        "        }\n",
        "\n",
        "        for pattern, responses in predefined_rules.items():\n",
        "            match = re.match(pattern, user_input.lower())\n",
        "            if match:\n",
        "                for response in responses:\n",
        "                    if callable(response):\n",
        "                        return response(*match.groups())\n",
        "                    elif self.similarity(user_input, response):\n",
        "                        return response\n",
        "                return random.choice(responses)\n",
        "\n",
        "        return \"对不起，我没明白你的意思。\"\n",
        "\n",
        "    def similarity(self, input_str, match_str):\n",
        "        input_words = set(re.findall(r'\\w+', input_str.lower()))\n",
        "        match_words = set(re.findall(r'\\w+', match_str.lower()))\n",
        "        common_words = input_words.intersection(match_words)\n",
        "        similarity_ratio = len(common_words) / max(len(input_words), len(match_words))\n",
        "        return similarity_ratio >= 0.75\n",
        "\n",
        "    def get_current_time(self, *args):\n",
        "        now = datetime.datetime.now()\n",
        "        return \"现在的时间是 \" + now.strftime(\"%H:%M\") + \"。\"\n",
        "\n",
        "    def get_current_date(self, *args):\n",
        "        now = datetime.datetime.now()\n",
        "        return \"今天是 \" + now.strftime(\"%Y-%m-%d\") + \"。\"\n",
        "\n",
        "    def respond_to_name(self, _, name, __):\n",
        "        return \"你好，{}！我能帮你什么？\".format(name)\n",
        "\n",
        "    def get_capital(self, *args):\n",
        "        capitals = {\n",
        "            \"埃及\": \"开罗\",\n",
        "            \"日本\": \"东京\",\n",
        "            \"韩国\": \"首尔\",\n",
        "            \"法国\": \"巴黎\"\n",
        "        }\n",
        "        country = args[1].strip().lower()\n",
        "        if country in capitals:\n",
        "            return f\"首都的{country.capitalize()}是{capitals[country]}。\"\n",
        "        else:\n",
        "            return \"对不起，我没有{country}的首都\"\n",
        "\n",
        "# Example usage\n",
        "chatbot = ChatbotChinese()\n",
        "print(chatbot.welcome_message())\n",
        "print(chatbot.conversation(\"你好\"))\n",
        "print(chatbot.conversation(\"什么是光合作用\"))\n",
        "print(chatbot.conversation(\"水的沸点是多少\"))\n"
      ],
      "metadata": {
        "colab": {
          "base_uri": "https://localhost:8080/"
        },
        "id": "lKoM3d27ckP2",
        "outputId": "965a50e9-48b8-4fee-876e-a90fc9a633f2"
      },
      "execution_count": 15,
      "outputs": [
        {
          "output_type": "stream",
          "name": "stdout",
          "text": [
            "欢迎！我能帮你什么？\n",
            "嗨！有什么我能帮你的吗？\n",
            "光合作用是绿色植物和一些其他生物利用阳光从二氧化碳和水中合成食物的过程。它通常涉及绿色颜料叶绿素，并产生氧气作为副产品。\n",
            "水的沸点在标准大气压下是100摄氏度（212华氏度）。\n"
          ]
        }
      ]
    },
    {
      "cell_type": "markdown",
      "source": [
        "# *Main Function*"
      ],
      "metadata": {
        "id": "9Cpc9uK2ihzl"
      }
    },
    {
      "cell_type": "code",
      "source": [
        "def main():\n",
        "    print(\"Welcome to multilingual chatbot!\")\n",
        "    print(\"1.English\")\n",
        "    print(\"2.German\")\n",
        "    print(\"3.Japanese\")\n",
        "    print(\"4.Chinese\")\n",
        "    print(\"5.Exit\")\n",
        "\n",
        "    choice = input(\"Write the number the language you want:\")\n",
        "\n",
        "    if choice == \"1\":\n",
        "        chatbot = ChatbotEnglish()\n",
        "    elif choice == \"2\":\n",
        "        chatbot = ChatbotGerman()\n",
        "    elif choice == \"3\":\n",
        "        chatbot = ChatbotJapanese()\n",
        "    elif choice == \"4\":\n",
        "        chatbot = ChatbotChinese()\n",
        "    elif choice == \"5\":\n",
        "        print(\"Goodbye!\")\n",
        "        return\n",
        "    else:\n",
        "        print(\"Invalid choice. Please choose a number from 1 to 4.\")\n",
        "        return\n",
        "\n",
        "    print(chatbot.welcome_message())\n",
        "\n",
        "    while True:\n",
        "        user_input = input(\"You: \")\n",
        "        if user_input.lower() == 'exit':\n",
        "            print(\"Goodbye!\")\n",
        "            break\n",
        "        response = chatbot.conversation(user_input)\n",
        "        print(\"Bot:\", response)\n",
        "\n",
        "if __name__ == \"__main__\":\n",
        "    main()"
      ],
      "metadata": {
        "colab": {
          "base_uri": "https://localhost:8080/"
        },
        "id": "vvanOXctcFc_",
        "outputId": "a8c63b1a-62b8-4e99-d892-9dbc30685799"
      },
      "execution_count": 17,
      "outputs": [
        {
          "output_type": "stream",
          "name": "stdout",
          "text": [
            "Welcome to multilingual chatbot!\n",
            "1.English\n",
            "2.German\n",
            "3.Japanese\n",
            "4.Chinese\n",
            "5.Exit\n",
            "Write the number the language you want:1\n",
            "Welcome! How can I assist you?\n",
            "You: hi\n",
            "Bot: Hi there! What can I help you with?\n",
            "You: what is your name\n",
            "Bot: I don't have a name, I'm here to help you!\n",
            "You: what can you do\n",
            "Bot: I can help answer questions, provide information, and assist with various tasks.\n",
            "You: what is photosynthesis\n",
            "Bot: Photosynthesis is the process by which green plants and some other organisms use sunlight to synthesize foods from carbon dioxide and water. It generally involves the green pigment chlorophyll and generates oxygen as a byproduct.\n",
            "You: how old are you\n",
            "Bot: I don't have an age, as I am a computer program.\n",
            "You: tell me a joke\n",
            "Bot: Sure! Why don't scientists trust atoms? Because they make up everything!\n",
            "You: tell me a joke\n",
            "Bot: Sure! Why don't scientists trust atoms? Because they make up everything!\n",
            "You: what is the meaning of life\n",
            "Bot: The meaning of life is a philosophical question that has been debated for centuries. There is no one definitive answer, but some common themes include finding purpose, happiness, and fulfillment.\n",
            "You: what time is it\n",
            "Bot: The current time is 13:32.\n",
            "You: goodbye\n",
            "Bot: Goodbye! Have a great day!\n",
            "You: exit\n",
            "Goodbye!\n"
          ]
        }
      ]
    }
  ]
}