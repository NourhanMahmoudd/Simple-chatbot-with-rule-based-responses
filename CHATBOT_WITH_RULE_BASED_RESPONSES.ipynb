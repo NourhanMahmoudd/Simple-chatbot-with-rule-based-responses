{
  "nbformat": 4,
  "nbformat_minor": 0,
  "metadata": {
    "colab": {
      "provenance": []
    },
    "kernelspec": {
      "name": "python3",
      "display_name": "Python 3"
    },
    "language_info": {
      "name": "python"
    }
  },
  "cells": [
    {
      "cell_type": "markdown",
      "source": [
        "    CHATBOT WITH RULE-BASED RESPONSES 🤖"
      ],
      "metadata": {
        "id": "_oPeL8jNO3pY"
      }
    },
    {
      "cell_type": "markdown",
      "source": [
        "# ***Import the necessary libraries***"
      ],
      "metadata": {
        "id": "oV4xNCJ2MkuW"
      }
    },
    {
      "cell_type": "code",
      "source": [
        "import re"
      ],
      "metadata": {
        "id": "V4nHsKjUMsjv"
      },
      "execution_count": 1,
      "outputs": []
    },
    {
      "cell_type": "markdown",
      "source": [
        "# ***The chatbot's responses***"
      ],
      "metadata": {
        "id": "cRzTUQojMvTk"
      }
    },
    {
      "cell_type": "code",
      "source": [
        "responses = {\n",
        "    \"hello\": \"Hello! How can I help you today?\",\n",
        "    \"hi\": \"Hi! How can I help you today?\",\n",
        "    \"hey\": \"Hey! How can I help you today?\",\n",
        "    \"what is your name\": \"My name is Chatbot.\",\n",
        "    \"how are you\": \"I am doing well, thank you.\",\n",
        "    \"how are you doing\": \"I am doing well, thank you.\",\n",
        "    \"thank\": \"You're welcome!\",\n",
        "    \"goodbye\": \"Goodbye! Have a nice day.\",\n",
        "    \"where are you from\": \"I exist in the digital world and do not have a physical location.\",\n",
        "    \"what is your favorite color\": \"As an AI, I don't have preferences, but I can help you with your queries!\",\n",
        "    \"can you tell me a joke\": \"Sure! Why don't scientists trust atoms? Because they make up everything!\",\n",
        "    \"what is 2 + 2\": \"2 + 2 equals 4.\",\n",
        "    \"how old are you\": \"I don't have an age, as I am a computer program.\",\n",
        "    \"what can you do\": \"I can help answer questions, provide information, and assist with various tasks.\",\n",
        "    \"tell me a fun fact\": \"Did you know that honey never spoils? Archaeologists have found pots of honey in ancient Egyptian tombs that are over 3,000 years old and still edible!\",\n",
        "    \"how can i improve my memory\": \"Improving memory can be achieved through regular mental exercises, staying organized, getting enough sleep, and maintaining a healthy diet.\",\n",
        "    \"what is your favorite movie\": \"As an AI, I don't watch movies, but I can recommend some popular ones if you'd like!\",\n",
        "    \"what is artificial intelligence\": \"Artificial intelligence (AI) refers to the simulation of human intelligence in machines that are programmed to think and learn like humans.\",\n",
        "    \"what is the tallest mountain in the world\": \"The tallest mountain in the world is Mount Everest, standing at 8,848 meters (29,029 feet) above sea level.\",\n",
        "    \"who invented the telephone\": \"The telephone was invented by Alexander Graham Bell in 1876.\",\n",
        "    \"who wrote 'Pride and Prejudice'\": \"'Pride and Prejudice' was written by Jane Austen.\",\n",
        "    \"what is photosynthesis\": \"Photosynthesis is the process by which green plants and some other organisms use sunlight to synthesize foods from carbon dioxide and water. It generally involves the green pigment chlorophyll and generates oxygen as a byproduct.\",\n",
        "    \"who is the founder of Microsoft\": \"Microsoft was founded by Bill Gates and Paul Allen.\",\n",
        "    \"what is the boiling point of water\": \"The boiling point of water is 100 degrees Celsius (212 degrees Fahrenheit) at standard atmospheric pressure.\",\n",
        "    \"what is the weather today\": \"I do not have access to real-time information, so I cannot provide you with the weather forecast.\",\n",
        "    \"what is the time\": \"I do not have access to real-time information, so I cannot provide you with the current time.\",\n",
        "    \"what is the date today\": \"I do not have access to real-time information, so I cannot provide you with the current date.\",\n",
        "    \"what is the capital of egypt\": \"The capital of Egypt is Cairo.\",\n",
        "    \"what is the capital of japan\": \"The capital of Japan is Tokyo.\",\n",
        "    \"what is the capital of Korea\": \"The capital of Korea is Seoul.\",\n",
        "    \"what is the meaning of life\": \"The meaning of life is a philosophical question that has been debated for centuries. There is no one definitive answer, but some common themes include finding purpose, happiness, and fulfillment.\",\n",
        "    \"what is the population of the earth\": \"The current population of the Earth is estimated to be around 8 billion people.\",\n",
        "    \"what is the best way to learn a new language\": \"The best way to learn a new language is to immerse yourself in it. This means listening to music, watching movies, reading books, and speaking to native speakers as much as possible.\",\n",
        "    \"what is the secret to happiness\": \"The secret to happiness is different for everyone, but some common ingredients include gratitude, kindness, and spending time with loved ones.\",\n",
        "    \"what is the speed of light\": \"The speed of light is approximately 299,792,458 meters per second.\"\n",
        "}"
      ],
      "metadata": {
        "id": "dzhI3doOMx-w"
      },
      "execution_count": 10,
      "outputs": []
    },
    {
      "cell_type": "markdown",
      "source": [
        "# ***Main function and run***"
      ],
      "metadata": {
        "id": "QykCsezUM3El"
      }
    },
    {
      "cell_type": "code",
      "execution_count": 11,
      "metadata": {
        "colab": {
          "base_uri": "https://localhost:8080/"
        },
        "id": "XOVjUHnRMeXC",
        "outputId": "23674ef6-b09e-4f50-d844-306f9dbabaf0"
      },
      "outputs": [
        {
          "output_type": "stream",
          "name": "stdout",
          "text": [
            "User: Hello\n",
            "Chatbot: Hello! How can I help you today?\n",
            "User: what is your name\n",
            "Chatbot: My name is Chatbot.\n",
            "User: what is the capital of japan\n",
            "Chatbot: The capital of Japan is Tokyo.\n",
            "User: what can you do\n",
            "Chatbot: I can help answer questions, provide information, and assist with various tasks.\n",
            "User: tell me a fun fact\n",
            "Chatbot: Did you know that honey never spoils? Archaeologists have found pots of honey in ancient Egyptian tombs that are over 3,000 years old and still edible!\n",
            "User: how are you \n",
            "Chatbot: I am doing well, thank you.\n",
            "User: where are you from\n",
            "Chatbot: I exist in the digital world and do not have a physical location.\n",
            "User: what is your favorite color\n",
            "Chatbot: As an AI, I don't have preferences, but I can help you with your queries!\n",
            "User: can you tell me a joke\n",
            "Chatbot: Sure! Why don't scientists trust atoms? Because they make up everything!\n",
            "User: how can I improve my memory\n",
            "Chatbot: Improving memory can be achieved through regular mental exercises, staying organized, getting enough sleep, and maintaining a healthy diet.\n",
            "User: what is the tallest mountain in the world\n",
            "Chatbot: The tallest mountain in the world is Mount Everest, standing at 8,848 meters (29,029 feet) above sea level.\n",
            "User: what is artificial intelligence\n",
            "Chatbot: Artificial intelligence (AI) refers to the simulation of human intelligence in machines that are programmed to think and learn like humans.\n",
            "User: who invented the telephone\n",
            "Chatbot: The telephone was invented by Alexander Graham Bell in 1876.\n",
            "User: what is the capital of japan\n",
            "Chatbot: The capital of Japan is Tokyo.\n",
            "User: what is the boiling point of water\n",
            "Chatbot: The boiling point of water is 100 degrees Celsius (212 degrees Fahrenheit) at standard atmospheric pressure.\n",
            "User: how old are you\n",
            "Chatbot: I don't have an age, as I am a computer program.\n",
            "User: what is the best way to learn a new language\n",
            "Chatbot: The best way to learn a new language is to immerse yourself in it. This means listening to music, watching movies, reading books, and speaking to native speakers as much as possible.\n",
            "User: what is the weather today\n",
            "Chatbot: I do not have access to real-time information, so I cannot provide you with the weather forecast.\n",
            "User: what is photosynthesis\n",
            "Chatbot: Photosynthesis is the process by which green plants and some other organisms use sunlight to synthesize foods from carbon dioxide and water. It generally involves the green pigment chlorophyll and generates oxygen as a byproduct.\n",
            "User: who wrote 'Pride and Prejudice'\n",
            "Chatbot: I'm sorry, I don't understand. Could you please rephrase that?\n",
            "User: what is your favorite movie\n",
            "Chatbot: As an AI, I don't watch movies, but I can recommend some popular ones if you'd like!\n",
            "User: what is the largest ocean on Earth\n",
            "Chatbot: I'm sorry, I don't understand. Could you please rephrase that?\n",
            "User: goodbye\n",
            "Chatbot: Goodbye! Have a nice day.\n"
          ]
        }
      ],
      "source": [
        "def chatbot():\n",
        "    while True:\n",
        "        # Get the user's input\n",
        "        user_input = input(\"User: \")\n",
        "        user_input = user_input.lower().strip(\".,!?\").strip()\n",
        "\n",
        "        # Check if the user's input is in the list of responses\n",
        "        if user_input in responses:\n",
        "            response = responses[user_input]\n",
        "        else:\n",
        "            response = \"I'm sorry, I don't understand. Could you please rephrase that?\"\n",
        "\n",
        "        print(\"Chatbot:\", response)\n",
        "\n",
        "        if user_input == \"goodbye\":\n",
        "            break\n",
        "chatbot()"
      ]
    }
  ]
}